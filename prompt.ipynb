{
  "cells": [
    {
      "cell_type": "markdown",
      "metadata": {
        "id": "CcUT6Fon_qRE"
      },
      "source": [
        "### Required Assignment 5.1: Will the Customer Accept the Coupon?\n",
        "\n",
        "**Context**\n",
        "\n",
        "Imagine driving through town and a coupon is delivered to your cell phone for a restaurant near where you are driving. Would you accept that coupon and take a short detour to the restaurant? Would you accept the coupon but use it on a subsequent trip? Would you ignore the coupon entirely? What if the coupon was for a bar instead of a restaurant? What about a coffee house? Would you accept a bar coupon with a minor passenger in the car? What about if it was just you and your partner in the car? Would weather impact the rate of acceptance? What about the time of day?\n",
        "\n",
        "Obviously, proximity to the business is a factor on whether the coupon is delivered to the driver or not, but what are the factors that determine whether a driver accepts the coupon once it is delivered to them? How would you determine whether a driver is likely to accept a coupon?\n",
        "\n",
        "**Overview**\n",
        "\n",
        "The goal of this project is to use what you know about visualizations and probability distributions to distinguish between customers who accepted a driving coupon versus those that did not.\n",
        "\n",
        "**Data**\n",
        "\n",
        "This data comes to us from the UCI Machine Learning repository and was collected via a survey on Amazon Mechanical Turk. The survey describes different driving scenarios including the destination, current time, weather, passenger, etc., and then ask the person whether he will accept the coupon if he is the driver. Answers that the user will drive there ‘right away’ or ‘later before the coupon expires’ are labeled as ‘Y = 1’ and answers ‘no, I do not want the coupon’ are labeled as ‘Y = 0’.  There are five different types of coupons -- less expensive restaurants (under \\$20), coffee houses, carry out & take away, bar, and more expensive restaurants (\\$20 - $50)."
      ]
    },
    {
      "cell_type": "markdown",
      "metadata": {
        "id": "1wORvMBJ_qRF"
      },
      "source": [
        "**Deliverables**\n",
        "\n",
        "Your final product should be a brief report that highlights the differences between customers who did and did not accept the coupons.  To explore the data you will utilize your knowledge of plotting, statistical summaries, and visualization using Python. You will publish your findings in a public facing github repository as your first portfolio piece.\n",
        "\n",
        "\n",
        "\n"
      ]
    },
    {
      "cell_type": "markdown",
      "metadata": {
        "id": "pG6_Ym6q_qRG"
      },
      "source": [
        "### Data Description\n",
        "Keep in mind that these values mentioned below are average values.\n",
        "\n",
        "The attributes of this data set include:\n",
        "1. User attributes\n",
        "    -  Gender: male, female\n",
        "    -  Age: below 21, 21 to 25, 26 to 30, etc.\n",
        "    -  Marital Status: single, married partner, unmarried partner, or widowed\n",
        "    -  Number of children: 0, 1, or more than 1\n",
        "    -  Education: high school, bachelors degree, associates degree, or graduate degree\n",
        "    -  Occupation: architecture & engineering, business & financial, etc.\n",
        "    -  Annual income: less than \\\\$12500, \\\\$12500 - \\\\$24999, \\\\$25000 - \\\\$37499, etc.\n",
        "    -  Number of times that he/she goes to a bar: 0, less than 1, 1 to 3, 4 to 8 or greater than 8\n",
        "    -  Number of times that he/she buys takeaway food: 0, less than 1, 1 to 3, 4 to 8 or greater\n",
        "    than 8\n",
        "    -  Number of times that he/she goes to a coffee house: 0, less than 1, 1 to 3, 4 to 8 or\n",
        "    greater than 8\n",
        "    -  Number of times that he/she eats at a restaurant with average expense less than \\\\$20 per\n",
        "    person: 0, less than 1, 1 to 3, 4 to 8 or greater than 8\n",
        "    -  Number of times that he/she goes to a bar: 0, less than 1, 1 to 3, 4 to 8 or greater than 8\n",
        "    \n",
        "\n",
        "2. Contextual attributes\n",
        "    - Driving destination: home, work, or no urgent destination\n",
        "    - Location of user, coupon and destination: we provide a map to show the geographical\n",
        "    location of the user, destination, and the venue, and we mark the distance between each\n",
        "    two places with time of driving. The user can see whether the venue is in the same\n",
        "    direction as the destination.\n",
        "    - Weather: sunny, rainy, or snowy\n",
        "    - Temperature: 30F, 55F, or 80F\n",
        "    - Time: 10AM, 2PM, or 6PM\n",
        "    - Passenger: alone, partner, kid(s), or friend(s)\n",
        "\n",
        "\n",
        "3. Coupon attributes\n",
        "    - time before it expires: 2 hours or one day"
      ]
    },
    {
      "cell_type": "code",
      "execution_count": 1,
      "metadata": {
        "id": "dzNoP3o__qRG"
      },
      "outputs": [],
      "source": [
        "import matplotlib.pyplot as plt\n",
        "import seaborn as sns\n",
        "import pandas as pd\n",
        "import numpy as np"
      ]
    },
    {
      "cell_type": "markdown",
      "metadata": {
        "id": "Ct8pI1uE_qRG"
      },
      "source": [
        "### Problems\n",
        "\n",
        "Use the prompts below to get started with your data analysis.  \n",
        "\n",
        "1. Read in the `coupons.csv` file.\n",
        "\n",
        "\n"
      ]
    },
    {
      "cell_type": "code",
      "execution_count": 2,
      "metadata": {
        "id": "X0vbffYg_qRH"
      },
      "outputs": [],
      "source": [
        "data = pd.read_csv('data/coupons.csv')"
      ]
    },
    {
      "cell_type": "code",
      "execution_count": 3,
      "metadata": {
        "id": "TXofQ_DF_qRH",
        "outputId": "2fc96a2c-1112-4b54-f24f-dbb9bc88abfb"
      },
      "outputs": [
        {
          "data": {
            "text/html": [
              "<div>\n",
              "<style scoped>\n",
              "    .dataframe tbody tr th:only-of-type {\n",
              "        vertical-align: middle;\n",
              "    }\n",
              "\n",
              "    .dataframe tbody tr th {\n",
              "        vertical-align: top;\n",
              "    }\n",
              "\n",
              "    .dataframe thead th {\n",
              "        text-align: right;\n",
              "    }\n",
              "</style>\n",
              "<table border=\"1\" class=\"dataframe\">\n",
              "  <thead>\n",
              "    <tr style=\"text-align: right;\">\n",
              "      <th></th>\n",
              "      <th>destination</th>\n",
              "      <th>passanger</th>\n",
              "      <th>weather</th>\n",
              "      <th>temperature</th>\n",
              "      <th>time</th>\n",
              "      <th>coupon</th>\n",
              "      <th>expiration</th>\n",
              "      <th>gender</th>\n",
              "      <th>age</th>\n",
              "      <th>maritalStatus</th>\n",
              "      <th>...</th>\n",
              "      <th>CoffeeHouse</th>\n",
              "      <th>CarryAway</th>\n",
              "      <th>RestaurantLessThan20</th>\n",
              "      <th>Restaurant20To50</th>\n",
              "      <th>toCoupon_GEQ5min</th>\n",
              "      <th>toCoupon_GEQ15min</th>\n",
              "      <th>toCoupon_GEQ25min</th>\n",
              "      <th>direction_same</th>\n",
              "      <th>direction_opp</th>\n",
              "      <th>Y</th>\n",
              "    </tr>\n",
              "  </thead>\n",
              "  <tbody>\n",
              "    <tr>\n",
              "      <th>0</th>\n",
              "      <td>No Urgent Place</td>\n",
              "      <td>Alone</td>\n",
              "      <td>Sunny</td>\n",
              "      <td>55</td>\n",
              "      <td>2PM</td>\n",
              "      <td>Restaurant(&lt;20)</td>\n",
              "      <td>1d</td>\n",
              "      <td>Female</td>\n",
              "      <td>21</td>\n",
              "      <td>Unmarried partner</td>\n",
              "      <td>...</td>\n",
              "      <td>never</td>\n",
              "      <td>NaN</td>\n",
              "      <td>4~8</td>\n",
              "      <td>1~3</td>\n",
              "      <td>1</td>\n",
              "      <td>0</td>\n",
              "      <td>0</td>\n",
              "      <td>0</td>\n",
              "      <td>1</td>\n",
              "      <td>1</td>\n",
              "    </tr>\n",
              "    <tr>\n",
              "      <th>1</th>\n",
              "      <td>No Urgent Place</td>\n",
              "      <td>Friend(s)</td>\n",
              "      <td>Sunny</td>\n",
              "      <td>80</td>\n",
              "      <td>10AM</td>\n",
              "      <td>Coffee House</td>\n",
              "      <td>2h</td>\n",
              "      <td>Female</td>\n",
              "      <td>21</td>\n",
              "      <td>Unmarried partner</td>\n",
              "      <td>...</td>\n",
              "      <td>never</td>\n",
              "      <td>NaN</td>\n",
              "      <td>4~8</td>\n",
              "      <td>1~3</td>\n",
              "      <td>1</td>\n",
              "      <td>0</td>\n",
              "      <td>0</td>\n",
              "      <td>0</td>\n",
              "      <td>1</td>\n",
              "      <td>0</td>\n",
              "    </tr>\n",
              "    <tr>\n",
              "      <th>2</th>\n",
              "      <td>No Urgent Place</td>\n",
              "      <td>Friend(s)</td>\n",
              "      <td>Sunny</td>\n",
              "      <td>80</td>\n",
              "      <td>10AM</td>\n",
              "      <td>Carry out &amp; Take away</td>\n",
              "      <td>2h</td>\n",
              "      <td>Female</td>\n",
              "      <td>21</td>\n",
              "      <td>Unmarried partner</td>\n",
              "      <td>...</td>\n",
              "      <td>never</td>\n",
              "      <td>NaN</td>\n",
              "      <td>4~8</td>\n",
              "      <td>1~3</td>\n",
              "      <td>1</td>\n",
              "      <td>1</td>\n",
              "      <td>0</td>\n",
              "      <td>0</td>\n",
              "      <td>1</td>\n",
              "      <td>1</td>\n",
              "    </tr>\n",
              "    <tr>\n",
              "      <th>3</th>\n",
              "      <td>No Urgent Place</td>\n",
              "      <td>Friend(s)</td>\n",
              "      <td>Sunny</td>\n",
              "      <td>80</td>\n",
              "      <td>2PM</td>\n",
              "      <td>Coffee House</td>\n",
              "      <td>2h</td>\n",
              "      <td>Female</td>\n",
              "      <td>21</td>\n",
              "      <td>Unmarried partner</td>\n",
              "      <td>...</td>\n",
              "      <td>never</td>\n",
              "      <td>NaN</td>\n",
              "      <td>4~8</td>\n",
              "      <td>1~3</td>\n",
              "      <td>1</td>\n",
              "      <td>1</td>\n",
              "      <td>0</td>\n",
              "      <td>0</td>\n",
              "      <td>1</td>\n",
              "      <td>0</td>\n",
              "    </tr>\n",
              "    <tr>\n",
              "      <th>4</th>\n",
              "      <td>No Urgent Place</td>\n",
              "      <td>Friend(s)</td>\n",
              "      <td>Sunny</td>\n",
              "      <td>80</td>\n",
              "      <td>2PM</td>\n",
              "      <td>Coffee House</td>\n",
              "      <td>1d</td>\n",
              "      <td>Female</td>\n",
              "      <td>21</td>\n",
              "      <td>Unmarried partner</td>\n",
              "      <td>...</td>\n",
              "      <td>never</td>\n",
              "      <td>NaN</td>\n",
              "      <td>4~8</td>\n",
              "      <td>1~3</td>\n",
              "      <td>1</td>\n",
              "      <td>1</td>\n",
              "      <td>0</td>\n",
              "      <td>0</td>\n",
              "      <td>1</td>\n",
              "      <td>0</td>\n",
              "    </tr>\n",
              "  </tbody>\n",
              "</table>\n",
              "<p>5 rows × 26 columns</p>\n",
              "</div>"
            ],
            "text/plain": [
              "       destination  passanger weather  temperature  time  \\\n",
              "0  No Urgent Place      Alone   Sunny           55   2PM   \n",
              "1  No Urgent Place  Friend(s)   Sunny           80  10AM   \n",
              "2  No Urgent Place  Friend(s)   Sunny           80  10AM   \n",
              "3  No Urgent Place  Friend(s)   Sunny           80   2PM   \n",
              "4  No Urgent Place  Friend(s)   Sunny           80   2PM   \n",
              "\n",
              "                  coupon expiration  gender age      maritalStatus  ...  \\\n",
              "0        Restaurant(<20)         1d  Female  21  Unmarried partner  ...   \n",
              "1           Coffee House         2h  Female  21  Unmarried partner  ...   \n",
              "2  Carry out & Take away         2h  Female  21  Unmarried partner  ...   \n",
              "3           Coffee House         2h  Female  21  Unmarried partner  ...   \n",
              "4           Coffee House         1d  Female  21  Unmarried partner  ...   \n",
              "\n",
              "   CoffeeHouse CarryAway RestaurantLessThan20 Restaurant20To50  \\\n",
              "0        never       NaN                  4~8              1~3   \n",
              "1        never       NaN                  4~8              1~3   \n",
              "2        never       NaN                  4~8              1~3   \n",
              "3        never       NaN                  4~8              1~3   \n",
              "4        never       NaN                  4~8              1~3   \n",
              "\n",
              "  toCoupon_GEQ5min toCoupon_GEQ15min toCoupon_GEQ25min direction_same  \\\n",
              "0                1                 0                 0              0   \n",
              "1                1                 0                 0              0   \n",
              "2                1                 1                 0              0   \n",
              "3                1                 1                 0              0   \n",
              "4                1                 1                 0              0   \n",
              "\n",
              "  direction_opp  Y  \n",
              "0             1  1  \n",
              "1             1  0  \n",
              "2             1  1  \n",
              "3             1  0  \n",
              "4             1  0  \n",
              "\n",
              "[5 rows x 26 columns]"
            ]
          },
          "execution_count": 3,
          "metadata": {},
          "output_type": "execute_result"
        }
      ],
      "source": [
        "data.head()"
      ]
    },
    {
      "cell_type": "markdown",
      "metadata": {
        "id": "GcDs78ZH_qRH"
      },
      "source": [
        "2. Investigate the dataset for missing or problematic data."
      ]
    },
    {
      "cell_type": "markdown",
      "metadata": {},
      "source": [
        "First, let's inspect the data frame to see the column names and their types"
      ]
    },
    {
      "cell_type": "code",
      "execution_count": 4,
      "metadata": {},
      "outputs": [
        {
          "name": "stdout",
          "output_type": "stream",
          "text": [
            "<class 'pandas.core.frame.DataFrame'>\n",
            "RangeIndex: 12684 entries, 0 to 12683\n",
            "Data columns (total 26 columns):\n",
            " #   Column                Non-Null Count  Dtype \n",
            "---  ------                --------------  ----- \n",
            " 0   destination           12684 non-null  object\n",
            " 1   passanger             12684 non-null  object\n",
            " 2   weather               12684 non-null  object\n",
            " 3   temperature           12684 non-null  int64 \n",
            " 4   time                  12684 non-null  object\n",
            " 5   coupon                12684 non-null  object\n",
            " 6   expiration            12684 non-null  object\n",
            " 7   gender                12684 non-null  object\n",
            " 8   age                   12684 non-null  object\n",
            " 9   maritalStatus         12684 non-null  object\n",
            " 10  has_children          12684 non-null  int64 \n",
            " 11  education             12684 non-null  object\n",
            " 12  occupation            12684 non-null  object\n",
            " 13  income                12684 non-null  object\n",
            " 14  car                   108 non-null    object\n",
            " 15  Bar                   12577 non-null  object\n",
            " 16  CoffeeHouse           12467 non-null  object\n",
            " 17  CarryAway             12533 non-null  object\n",
            " 18  RestaurantLessThan20  12554 non-null  object\n",
            " 19  Restaurant20To50      12495 non-null  object\n",
            " 20  toCoupon_GEQ5min      12684 non-null  int64 \n",
            " 21  toCoupon_GEQ15min     12684 non-null  int64 \n",
            " 22  toCoupon_GEQ25min     12684 non-null  int64 \n",
            " 23  direction_same        12684 non-null  int64 \n",
            " 24  direction_opp         12684 non-null  int64 \n",
            " 25  Y                     12684 non-null  int64 \n",
            "dtypes: int64(8), object(18)\n",
            "memory usage: 2.5+ MB\n"
          ]
        }
      ],
      "source": [
        "data.info()"
      ]
    },
    {
      "cell_type": "markdown",
      "metadata": {},
      "source": [
        "> **Step 2.1** There seems to be a lot of null values in `car` and some other fields. Let's count the missing values to prioritize where to start"
      ]
    },
    {
      "cell_type": "code",
      "execution_count": 5,
      "metadata": {
        "id": "6CwL6oWj_qRH"
      },
      "outputs": [
        {
          "name": "stdout",
          "output_type": "stream",
          "text": [
            "----- Counting null values across columns -----\n"
          ]
        },
        {
          "data": {
            "text/plain": [
              "car                     12576\n",
              "Bar                       107\n",
              "CoffeeHouse               217\n",
              "CarryAway                 151\n",
              "RestaurantLessThan20      130\n",
              "Restaurant20To50          189\n",
              "dtype: int64"
            ]
          },
          "execution_count": 5,
          "metadata": {},
          "output_type": "execute_result"
        }
      ],
      "source": [
        "print(\"----- Counting null values across columns -----\")\n",
        "null_counts = data.isnull().sum()\n",
        "null_counts[null_counts > 0]"
      ]
    },
    {
      "cell_type": "markdown",
      "metadata": {},
      "source": [
        "There are many nulls in `car` (almost all the rows), and some in `Bar`, `CoffeeHouse`, `CarryAway`, `RestaurantLessThan20`, and `Restaurant20To50`. I will first check the `car` column"
      ]
    },
    {
      "cell_type": "code",
      "execution_count": 6,
      "metadata": {},
      "outputs": [
        {
          "name": "stdout",
          "output_type": "stream",
          "text": [
            "---- Sample of the df with the car column: -----\n",
            "           destination  time                 coupon  gender      age  car\n",
            "6114   No Urgent Place  10AM                    Bar    Male       26  NaN\n",
            "378               Home   6PM                    Bar  Female       31  NaN\n",
            "6658              Home   6PM           Coffee House    Male       26  NaN\n",
            "4061              Work   7AM  Carry out & Take away  Female       21  NaN\n",
            "5612   No Urgent Place   6PM        Restaurant(<20)    Male       26  NaN\n",
            "1220   No Urgent Place   2PM           Coffee House    Male  below21  NaN\n",
            "1999              Home   6PM      Restaurant(20-50)    Male       21  NaN\n",
            "1747   No Urgent Place   2PM           Coffee House  Female       26  NaN\n",
            "6878              Home  10PM  Carry out & Take away  Female   50plus  NaN\n",
            "10345  No Urgent Place  10AM           Coffee House    Male       21  NaN\n",
            "\n",
            "---- Value counts of the car column: -----\n",
            "car\n",
            "Scooter and motorcycle                      22\n",
            "Mazda5                                      22\n",
            "do not drive                                22\n",
            "crossover                                   21\n",
            "Car that is too old to install Onstar :D    21\n",
            "Name: count, dtype: int64\n"
          ]
        }
      ],
      "source": [
        "# Print a sample of rows including the car column\n",
        "print('---- Sample of the df with the car column: -----')\n",
        "print(data[['destination','time','coupon','gender','age','car']].sample(10)) # chose some other columns that made sense for me\n",
        "\n",
        "# Get the value counts for car column\n",
        "print('\\n---- Value counts of the car column: -----')\n",
        "print(data['car'].value_counts())"
      ]
    },
    {
      "cell_type": "markdown",
      "metadata": {},
      "source": [
        "From the above observations about the car column, `NaN` values are *NOT* problematic (they just seem to imply 'any' car). For the non-NaN values (i.e. Mazda5), I conclude that most of them are *NOT* problematic with the exception of `do not drive`. Note that even though is it presumed that the user is in a car, those that are marked with `Scooter and motorcycle` may still work in terms of proving the effectiveness of the coupons.\n",
        "\n",
        "> **Conclusion:** I will only remove entries with the car == `do not drive` mark."
      ]
    },
    {
      "cell_type": "markdown",
      "metadata": {},
      "source": [
        "> **Step 2.2** For the other columns that contain NaN values, I will analyze them as a single unit for conciseness. For this, my strategy is to `count the number of NaNs per row` across the columns that are known to contain NaNs, then decide how to tackle each group."
      ]
    },
    {
      "cell_type": "code",
      "execution_count": 7,
      "metadata": {},
      "outputs": [
        {
          "name": "stdout",
          "output_type": "stream",
          "text": [
            "Summary of NaN counts:\n",
            "   NaN_count  Number of Rows   % NaN\n",
            "0          0           12079  95.23%\n",
            "1          1             542   4.27%\n",
            "2          2              21   0.17%\n",
            "3          5              42   0.33%\n"
          ]
        }
      ],
      "source": [
        "# Count NaNs in these columns for each row and save in new column\n",
        "data['NaN_count'] = data[['Bar', 'CoffeeHouse', 'CarryAway', 'RestaurantLessThan20', 'Restaurant20To50']].isnull().sum(axis=1)\n",
        "\n",
        "# Groupby the NaN_count\n",
        "nan_counts_summary = data.groupby('NaN_count').size().reset_index(name='Number of Rows')\n",
        "nan_counts_summary['% NaN'] = nan_counts_summary['Number of Rows'] / 12684\n",
        "\n",
        "# Print results\n",
        "nan_counts_summary['% NaN'] = nan_counts_summary['% NaN'].apply(lambda x: f\"{x:.2%}\") # this is just to print prettier percentages\n",
        "print(\"Summary of NaN counts:\")\n",
        "print(nan_counts_summary)"
      ]
    },
    {
      "cell_type": "markdown",
      "metadata": {},
      "source": [
        "From the above table one can see that most rows don't contain NaN values (95%). I conclude the following:\n",
        "1. I would be generally `ok loosing rows with NaN values` since they represent less than 5% of the population. \n",
        "2. Regardless, I will try to at least `inspect those with only 1 NaN`\n",
        "3. I will proceed to `remove those with 2 or 5 NaNs` across their columns."
      ]
    },
    {
      "cell_type": "code",
      "execution_count": 8,
      "metadata": {},
      "outputs": [
        {
          "data": {
            "text/html": [
              "<div>\n",
              "<style scoped>\n",
              "    .dataframe tbody tr th:only-of-type {\n",
              "        vertical-align: middle;\n",
              "    }\n",
              "\n",
              "    .dataframe tbody tr th {\n",
              "        vertical-align: top;\n",
              "    }\n",
              "\n",
              "    .dataframe thead th {\n",
              "        text-align: right;\n",
              "    }\n",
              "</style>\n",
              "<table border=\"1\" class=\"dataframe\">\n",
              "  <thead>\n",
              "    <tr style=\"text-align: right;\">\n",
              "      <th></th>\n",
              "      <th>destination</th>\n",
              "      <th>time</th>\n",
              "      <th>coupon</th>\n",
              "      <th>expiration</th>\n",
              "      <th>gender</th>\n",
              "      <th>age</th>\n",
              "      <th>maritalStatus</th>\n",
              "      <th>education</th>\n",
              "      <th>Bar</th>\n",
              "      <th>CoffeeHouse</th>\n",
              "      <th>CarryAway</th>\n",
              "      <th>RestaurantLessThan20</th>\n",
              "      <th>Restaurant20To50</th>\n",
              "    </tr>\n",
              "  </thead>\n",
              "  <tbody>\n",
              "    <tr>\n",
              "      <th>4875</th>\n",
              "      <td>No Urgent Place</td>\n",
              "      <td>10AM</td>\n",
              "      <td>Coffee House</td>\n",
              "      <td>2h</td>\n",
              "      <td>Male</td>\n",
              "      <td>31</td>\n",
              "      <td>Married partner</td>\n",
              "      <td>Bachelors degree</td>\n",
              "      <td>never</td>\n",
              "      <td>never</td>\n",
              "      <td>never</td>\n",
              "      <td>less1</td>\n",
              "      <td>NaN</td>\n",
              "    </tr>\n",
              "    <tr>\n",
              "      <th>9139</th>\n",
              "      <td>No Urgent Place</td>\n",
              "      <td>2PM</td>\n",
              "      <td>Restaurant(20-50)</td>\n",
              "      <td>1d</td>\n",
              "      <td>Male</td>\n",
              "      <td>below21</td>\n",
              "      <td>Single</td>\n",
              "      <td>Some college - no degree</td>\n",
              "      <td>never</td>\n",
              "      <td>never</td>\n",
              "      <td>less1</td>\n",
              "      <td>never</td>\n",
              "      <td>NaN</td>\n",
              "    </tr>\n",
              "    <tr>\n",
              "      <th>923</th>\n",
              "      <td>Work</td>\n",
              "      <td>7AM</td>\n",
              "      <td>Coffee House</td>\n",
              "      <td>2h</td>\n",
              "      <td>Female</td>\n",
              "      <td>31</td>\n",
              "      <td>Unmarried partner</td>\n",
              "      <td>Associates degree</td>\n",
              "      <td>never</td>\n",
              "      <td>never</td>\n",
              "      <td>4~8</td>\n",
              "      <td>NaN</td>\n",
              "      <td>never</td>\n",
              "    </tr>\n",
              "    <tr>\n",
              "      <th>496</th>\n",
              "      <td>No Urgent Place</td>\n",
              "      <td>10AM</td>\n",
              "      <td>Coffee House</td>\n",
              "      <td>2h</td>\n",
              "      <td>Male</td>\n",
              "      <td>26</td>\n",
              "      <td>Unmarried partner</td>\n",
              "      <td>Bachelors degree</td>\n",
              "      <td>never</td>\n",
              "      <td>NaN</td>\n",
              "      <td>less1</td>\n",
              "      <td>less1</td>\n",
              "      <td>less1</td>\n",
              "    </tr>\n",
              "    <tr>\n",
              "      <th>11845</th>\n",
              "      <td>No Urgent Place</td>\n",
              "      <td>6PM</td>\n",
              "      <td>Restaurant(&lt;20)</td>\n",
              "      <td>2h</td>\n",
              "      <td>Male</td>\n",
              "      <td>26</td>\n",
              "      <td>Unmarried partner</td>\n",
              "      <td>Graduate degree (Masters or Doctorate)</td>\n",
              "      <td>less1</td>\n",
              "      <td>NaN</td>\n",
              "      <td>1~3</td>\n",
              "      <td>never</td>\n",
              "      <td>never</td>\n",
              "    </tr>\n",
              "  </tbody>\n",
              "</table>\n",
              "</div>"
            ],
            "text/plain": [
              "           destination  time             coupon expiration  gender      age  \\\n",
              "4875   No Urgent Place  10AM       Coffee House         2h    Male       31   \n",
              "9139   No Urgent Place   2PM  Restaurant(20-50)         1d    Male  below21   \n",
              "923               Work   7AM       Coffee House         2h  Female       31   \n",
              "496    No Urgent Place  10AM       Coffee House         2h    Male       26   \n",
              "11845  No Urgent Place   6PM    Restaurant(<20)         2h    Male       26   \n",
              "\n",
              "           maritalStatus                               education    Bar  \\\n",
              "4875     Married partner                        Bachelors degree  never   \n",
              "9139              Single                Some college - no degree  never   \n",
              "923    Unmarried partner                       Associates degree  never   \n",
              "496    Unmarried partner                        Bachelors degree  never   \n",
              "11845  Unmarried partner  Graduate degree (Masters or Doctorate)  less1   \n",
              "\n",
              "      CoffeeHouse CarryAway RestaurantLessThan20 Restaurant20To50  \n",
              "4875        never     never                less1              NaN  \n",
              "9139        never     less1                never              NaN  \n",
              "923         never       4~8                  NaN            never  \n",
              "496           NaN     less1                less1            less1  \n",
              "11845         NaN       1~3                never            never  "
            ]
          },
          "execution_count": 8,
          "metadata": {},
          "output_type": "execute_result"
        }
      ],
      "source": [
        "# Inspecting rows with only 1 NaN\n",
        "sample_1_NaN = data[data['NaN_count'] == 1].sample(5)\n",
        "sample_1_NaN[['destination', 'time', 'coupon', 'expiration', 'gender', 'age', 'maritalStatus', 'education', 'Bar', 'CoffeeHouse', 'CarryAway', 'RestaurantLessThan20', 'Restaurant20To50']]"
      ]
    },
    {
      "cell_type": "code",
      "execution_count": 9,
      "metadata": {
        "id": "tyvoAC5F_qRI"
      },
      "outputs": [
        {
          "name": "stdout",
          "output_type": "stream",
          "text": [
            "---- Value counts of the CoffeeHouse column: -----\n",
            "CoffeeHouse\n",
            "less1    3385\n",
            "1~3      3225\n",
            "never    2962\n",
            "4~8      1784\n",
            "gt8      1111\n",
            "Name: count, dtype: int64\n",
            "\n",
            "---- Value counts of the CarryAway column: -----\n",
            "CarryAway\n",
            "1~3      4672\n",
            "4~8      4258\n",
            "less1    1856\n",
            "gt8      1594\n",
            "never     153\n",
            "Name: count, dtype: int64\n",
            "\n",
            "---- Value counts of the RestaurantLessThan20 column: -----\n",
            "RestaurantLessThan20\n",
            "1~3      5376\n",
            "4~8      3580\n",
            "less1    2093\n",
            "gt8      1285\n",
            "never     220\n",
            "Name: count, dtype: int64\n",
            "\n",
            "---- Value counts of the Restaurant20To50 column: -----\n",
            "Restaurant20To50\n",
            "less1    6077\n",
            "1~3      3290\n",
            "never    2136\n",
            "4~8       728\n",
            "gt8       264\n",
            "Name: count, dtype: int64\n"
          ]
        }
      ],
      "source": [
        "# Printing value counts for all other vars:\n",
        "print('---- Value counts of the CoffeeHouse column: -----')\n",
        "print(data['CoffeeHouse'].value_counts())\n",
        "\n",
        "print('\\n---- Value counts of the CarryAway column: -----')\n",
        "print(data['CarryAway'].value_counts())\n",
        "\n",
        "print('\\n---- Value counts of the RestaurantLessThan20 column: -----')\n",
        "print(data['RestaurantLessThan20'].value_counts())\n",
        "\n",
        "print('\\n---- Value counts of the Restaurant20To50 column: -----')\n",
        "print(data['Restaurant20To50'].value_counts())"
      ]
    },
    {
      "cell_type": "markdown",
      "metadata": {},
      "source": [
        "I can't see any clear patterns for these entries that contain exactly 1 NaN. Also, the only other alternative would be to assume that NaN = 'never', but my intuition tells me that this may not be true and instead is just a 'missing information'. Therefore, I think the best course of action is to remove the rows that contain 1 NaN.\n",
        "\n",
        "> **Conclusion**: Rows with any number of `NaN` values in columns `Bar`, `CoffeeHouse`, `CarryAway`, `RestaurantLessThan20`, `Restaurant20To50` will be removed from the analysis."
      ]
    },
    {
      "cell_type": "markdown",
      "metadata": {},
      "source": [
        "Now, lets check some of the other columns in the dataset. I will try to check for the following cases:\n",
        "1. Are there redundant columns?\n",
        "2. Are there columns that do not provide any information or have no value variation (i.e. are constant)?"
      ]
    },
    {
      "cell_type": "code",
      "execution_count": 10,
      "metadata": {},
      "outputs": [
        {
          "name": "stdout",
          "output_type": "stream",
          "text": [
            "------- Column 'toCoupon_GEQ5min' value counts -------\n",
            "toCoupon_GEQ5min\n",
            "1    12684\n",
            "Name: count, dtype: int64\n",
            "\n",
            "------- Checking if 'direction_same' and 'direction_same' are just the inverse of the other -------\n",
            "Number of rows where direction_same = direction_opp = 0\n"
          ]
        }
      ],
      "source": [
        "# For conciseness purposes, I'm only showing the columns where I found those cases\n",
        "# Checking column toCoupon_GEQ5min value counts\n",
        "print(\"------- Column 'toCoupon_GEQ5min' value counts -------\")\n",
        "print(data['toCoupon_GEQ5min'].value_counts())\n",
        "\n",
        "# Checking if direction_same is just the inverse of direction_opp\n",
        "print(\"\\n------- Checking if 'direction_same' and 'direction_same' are just the inverse of the other -------\")\n",
        "rows_diff = data[data['direction_same'] == data['direction_opp']] # this will return rows where the 2 columns are equal. Note that there's only 0s and 1s\n",
        "print(\"Number of rows where direction_same = direction_opp = \" + str(len(rows_diff)))"
      ]
    },
    {
      "cell_type": "markdown",
      "metadata": {},
      "source": [
        "> **Conclusions**: Column `toCoupon_GEQ5min` doesn't provide any value since it is all 1s. Also, column `direction_opp` is just the inverse of `direction_same`, so I'll just keep 1 of the columns."
      ]
    },
    {
      "cell_type": "markdown",
      "metadata": {
        "id": "bSdVSpYB_qRH"
      },
      "source": [
        "3. Decide what to do about your missing data -- drop, replace, other..."
      ]
    },
    {
      "cell_type": "code",
      "execution_count": 11,
      "metadata": {},
      "outputs": [
        {
          "name": "stdout",
          "output_type": "stream",
          "text": [
            "------ Sample of cleaned dataframe: -------\n",
            "          destination  passanger weather  temperature  time  \\\n",
            "9355             Work      Alone   Sunny           80   7AM   \n",
            "5108  No Urgent Place  Friend(s)   Sunny           80   6PM   \n",
            "6847  No Urgent Place  Friend(s)   Sunny           80   6PM   \n",
            "5470             Home      Alone   Sunny           80  10PM   \n",
            "894              Home      Alone   Sunny           55   6PM   \n",
            "\n",
            "                     coupon expiration  gender     age    maritalStatus  ...  \\\n",
            "9355        Restaurant(<20)         1d  Female  50plus           Single  ...   \n",
            "5108        Restaurant(<20)         1d  Female      21           Single  ...   \n",
            "6847      Restaurant(20-50)         2h  Female      46  Married partner  ...   \n",
            "5470  Carry out & Take away         1d    Male      26           Single  ...   \n",
            "894       Restaurant(20-50)         1d  Female      21           Single  ...   \n",
            "\n",
            "        Bar CoffeeHouse CarryAway RestaurantLessThan20 Restaurant20To50  \\\n",
            "9355  never       never     less1                never            never   \n",
            "5108  never       never     never                  gt8            less1   \n",
            "6847  never       never     less1                less1            never   \n",
            "5470  never       never       1~3                  1~3              1~3   \n",
            "894     1~3       less1       4~8                  1~3            less1   \n",
            "\n",
            "     toCoupon_GEQ15min toCoupon_GEQ25min direction_same  Y NaN_count  \n",
            "9355                 0                 0              0  1         0  \n",
            "5108                 1                 0              0  1         0  \n",
            "6847                 1                 0              0  1         0  \n",
            "5470                 0                 0              1  0         0  \n",
            "894                  1                 0              0  1         0  \n",
            "\n",
            "[5 rows x 25 columns]\n",
            "\n",
            "------ Cleaned data stats: -------\n",
            "Rows remaining in cleaned dataframe = 12057\n",
            "# of rows dropped = 627\n"
          ]
        }
      ],
      "source": [
        "# Cleaning data based on all previous conclusions\n",
        "cleaned_data = data[data['car'] != 'do not drive'] # remove car = do not drive\n",
        "cleaned_data = cleaned_data[cleaned_data['NaN_count'] == 0] # remove rows with any # of NaN values\n",
        "cleaned_data = cleaned_data.drop(\"toCoupon_GEQ5min\", axis=1) # remove column 'toCoupon_GEQ5min'\n",
        "cleaned_data = cleaned_data.drop(\"direction_opp\", axis=1) # remove column 'direction_opp'\n",
        "\n",
        "print(\"------ Sample of cleaned dataframe: -------\")\n",
        "print(cleaned_data.sample(5))\n",
        "print(\"\\n------ Cleaned data stats: -------\")\n",
        "print(\"Rows remaining in cleaned dataframe = \" + str(len(cleaned_data)))\n",
        "print(\"# of rows dropped = \" + str(len(data) - len(cleaned_data)))"
      ]
    },
    {
      "cell_type": "markdown",
      "metadata": {
        "id": "YE6oJbXd_qRI"
      },
      "source": [
        "4. What proportion of the total observations chose to accept the coupon?\n",
        "\n"
      ]
    },
    {
      "cell_type": "code",
      "execution_count": 12,
      "metadata": {
        "id": "86GGqBTv_qRI"
      },
      "outputs": [
        {
          "name": "stdout",
          "output_type": "stream",
          "text": [
            "56.95%\n"
          ]
        }
      ],
      "source": [
        "# Note that from here onwards I will be using the cleaned_data df since that's my quality checked data\n",
        "# I will get the rows where Y = 1 (accepted) and count the number of rows. Then divide by the total size of the dataframe\n",
        "drivers_accepted_coupon = cleaned_data[cleaned_data['Y'] == 1]\n",
        "pc_accepted = len(drivers_accepted_coupon) / len(cleaned_data)\n",
        "print(f\"{pc_accepted:.2%}\")"
      ]
    },
    {
      "cell_type": "markdown",
      "metadata": {
        "id": "vflz0DoE_qRI"
      },
      "source": [
        "5. Use a bar plot to visualize the `coupon` column."
      ]
    },
    {
      "cell_type": "code",
      "execution_count": 13,
      "metadata": {
        "id": "dHFh3E45_qRI"
      },
      "outputs": [
        {
          "data": {
            "image/png": "[encoded data removed]",
            "text/plain": [
              "<Figure size 1000x600 with 1 Axes>"
            ]
          },
          "metadata": {},
          "output_type": "display_data"
        }
      ],
      "source": [
        "# Set the figure size\n",
        "plt.figure(figsize=(10, 6))\n",
        "\n",
        "# Create the plot. Note that I used countplot instead of barplot for conciseness (otherwise cleaned_data['coupon'].value_counts() would have been required)\n",
        "sns.countplot(data=cleaned_data, x='coupon', order=cleaned_data['coupon'].value_counts().index) # Order bars by frequency\n",
        "\n",
        "# Add titles and labels\n",
        "plt.title('Distribution of Coupon Types')\n",
        "plt.xlabel('Coupon Type')\n",
        "plt.ylabel('Count')\n",
        "\n",
        "plt.show()"
      ]
    },
    {
      "cell_type": "markdown",
      "metadata": {
        "id": "Qw4lCyx2_qRI"
      },
      "source": [
        "6. Use a histogram to visualize the temperature column."
      ]
    },
    {
      "cell_type": "code",
      "execution_count": 14,
      "metadata": {
        "id": "Yg9Anv71_qRI"
      },
      "outputs": [
        {
          "data": {
            "image/png": "[encoded data removed]",
            "text/plain": [
              "<Figure size 800x500 with 1 Axes>"
            ]
          },
          "metadata": {},
          "output_type": "display_data"
        }
      ],
      "source": [
        "# Set the figure size\n",
        "plt.figure(figsize=(8, 5))\n",
        "\n",
        "# Create the histogram. Chose a # of bins that makes the chart look pretier\n",
        "sns.histplot(data=cleaned_data, x='temperature', bins=5)\n",
        "\n",
        "# Add titles and labels\n",
        "plt.title('Distribution of Temperatures')\n",
        "plt.xlabel('Temperature (°F)')\n",
        "plt.ylabel('Frequency')\n",
        "\n",
        "plt.show()"
      ]
    },
    {
      "cell_type": "markdown",
      "metadata": {
        "id": "FupfgeJk_qRJ"
      },
      "source": [
        "**Investigating the Bar Coupons**\n",
        "\n",
        "Now, we will lead you through an exploration of just the bar related coupons.  \n",
        "\n",
        "1. Create a new `DataFrame` that contains just the bar coupons.\n"
      ]
    },
    {
      "cell_type": "code",
      "execution_count": 15,
      "metadata": {
        "id": "tMBlWuGq_qRJ"
      },
      "outputs": [
        {
          "data": {
            "text/html": [
              "<div>\n",
              "<style scoped>\n",
              "    .dataframe tbody tr th:only-of-type {\n",
              "        vertical-align: middle;\n",
              "    }\n",
              "\n",
              "    .dataframe tbody tr th {\n",
              "        vertical-align: top;\n",
              "    }\n",
              "\n",
              "    .dataframe thead th {\n",
              "        text-align: right;\n",
              "    }\n",
              "</style>\n",
              "<table border=\"1\" class=\"dataframe\">\n",
              "  <thead>\n",
              "    <tr style=\"text-align: right;\">\n",
              "      <th></th>\n",
              "      <th>destination</th>\n",
              "      <th>passanger</th>\n",
              "      <th>weather</th>\n",
              "      <th>temperature</th>\n",
              "      <th>time</th>\n",
              "      <th>coupon</th>\n",
              "      <th>expiration</th>\n",
              "      <th>gender</th>\n",
              "      <th>age</th>\n",
              "      <th>maritalStatus</th>\n",
              "      <th>...</th>\n",
              "      <th>Bar</th>\n",
              "      <th>CoffeeHouse</th>\n",
              "      <th>CarryAway</th>\n",
              "      <th>RestaurantLessThan20</th>\n",
              "      <th>Restaurant20To50</th>\n",
              "      <th>toCoupon_GEQ15min</th>\n",
              "      <th>toCoupon_GEQ25min</th>\n",
              "      <th>direction_same</th>\n",
              "      <th>Y</th>\n",
              "      <th>NaN_count</th>\n",
              "    </tr>\n",
              "  </thead>\n",
              "  <tbody>\n",
              "    <tr>\n",
              "      <th>11188</th>\n",
              "      <td>Work</td>\n",
              "      <td>Alone</td>\n",
              "      <td>Snowy</td>\n",
              "      <td>30</td>\n",
              "      <td>7AM</td>\n",
              "      <td>Bar</td>\n",
              "      <td>1d</td>\n",
              "      <td>Female</td>\n",
              "      <td>below21</td>\n",
              "      <td>Unmarried partner</td>\n",
              "      <td>...</td>\n",
              "      <td>never</td>\n",
              "      <td>gt8</td>\n",
              "      <td>gt8</td>\n",
              "      <td>gt8</td>\n",
              "      <td>less1</td>\n",
              "      <td>1</td>\n",
              "      <td>1</td>\n",
              "      <td>0</td>\n",
              "      <td>1</td>\n",
              "      <td>0</td>\n",
              "    </tr>\n",
              "    <tr>\n",
              "      <th>5733</th>\n",
              "      <td>Home</td>\n",
              "      <td>Alone</td>\n",
              "      <td>Sunny</td>\n",
              "      <td>80</td>\n",
              "      <td>10PM</td>\n",
              "      <td>Bar</td>\n",
              "      <td>1d</td>\n",
              "      <td>Male</td>\n",
              "      <td>21</td>\n",
              "      <td>Single</td>\n",
              "      <td>...</td>\n",
              "      <td>less1</td>\n",
              "      <td>1~3</td>\n",
              "      <td>1~3</td>\n",
              "      <td>1~3</td>\n",
              "      <td>less1</td>\n",
              "      <td>1</td>\n",
              "      <td>0</td>\n",
              "      <td>1</td>\n",
              "      <td>0</td>\n",
              "      <td>0</td>\n",
              "    </tr>\n",
              "    <tr>\n",
              "      <th>6147</th>\n",
              "      <td>No Urgent Place</td>\n",
              "      <td>Partner</td>\n",
              "      <td>Sunny</td>\n",
              "      <td>80</td>\n",
              "      <td>6PM</td>\n",
              "      <td>Bar</td>\n",
              "      <td>2h</td>\n",
              "      <td>Male</td>\n",
              "      <td>46</td>\n",
              "      <td>Married partner</td>\n",
              "      <td>...</td>\n",
              "      <td>never</td>\n",
              "      <td>never</td>\n",
              "      <td>less1</td>\n",
              "      <td>4~8</td>\n",
              "      <td>1~3</td>\n",
              "      <td>1</td>\n",
              "      <td>0</td>\n",
              "      <td>0</td>\n",
              "      <td>1</td>\n",
              "      <td>0</td>\n",
              "    </tr>\n",
              "    <tr>\n",
              "      <th>11821</th>\n",
              "      <td>Work</td>\n",
              "      <td>Alone</td>\n",
              "      <td>Snowy</td>\n",
              "      <td>30</td>\n",
              "      <td>7AM</td>\n",
              "      <td>Bar</td>\n",
              "      <td>1d</td>\n",
              "      <td>Male</td>\n",
              "      <td>36</td>\n",
              "      <td>Married partner</td>\n",
              "      <td>...</td>\n",
              "      <td>never</td>\n",
              "      <td>less1</td>\n",
              "      <td>4~8</td>\n",
              "      <td>1~3</td>\n",
              "      <td>less1</td>\n",
              "      <td>1</td>\n",
              "      <td>1</td>\n",
              "      <td>0</td>\n",
              "      <td>0</td>\n",
              "      <td>0</td>\n",
              "    </tr>\n",
              "    <tr>\n",
              "      <th>11125</th>\n",
              "      <td>No Urgent Place</td>\n",
              "      <td>Friend(s)</td>\n",
              "      <td>Sunny</td>\n",
              "      <td>80</td>\n",
              "      <td>10PM</td>\n",
              "      <td>Bar</td>\n",
              "      <td>1d</td>\n",
              "      <td>Male</td>\n",
              "      <td>50plus</td>\n",
              "      <td>Single</td>\n",
              "      <td>...</td>\n",
              "      <td>1~3</td>\n",
              "      <td>4~8</td>\n",
              "      <td>4~8</td>\n",
              "      <td>1~3</td>\n",
              "      <td>less1</td>\n",
              "      <td>1</td>\n",
              "      <td>0</td>\n",
              "      <td>0</td>\n",
              "      <td>1</td>\n",
              "      <td>0</td>\n",
              "    </tr>\n",
              "  </tbody>\n",
              "</table>\n",
              "<p>5 rows × 25 columns</p>\n",
              "</div>"
            ],
            "text/plain": [
              "           destination  passanger weather  temperature  time coupon  \\\n",
              "11188             Work      Alone   Snowy           30   7AM    Bar   \n",
              "5733              Home      Alone   Sunny           80  10PM    Bar   \n",
              "6147   No Urgent Place    Partner   Sunny           80   6PM    Bar   \n",
              "11821             Work      Alone   Snowy           30   7AM    Bar   \n",
              "11125  No Urgent Place  Friend(s)   Sunny           80  10PM    Bar   \n",
              "\n",
              "      expiration  gender      age      maritalStatus  ...    Bar CoffeeHouse  \\\n",
              "11188         1d  Female  below21  Unmarried partner  ...  never         gt8   \n",
              "5733          1d    Male       21             Single  ...  less1         1~3   \n",
              "6147          2h    Male       46    Married partner  ...  never       never   \n",
              "11821         1d    Male       36    Married partner  ...  never       less1   \n",
              "11125         1d    Male   50plus             Single  ...    1~3         4~8   \n",
              "\n",
              "      CarryAway RestaurantLessThan20 Restaurant20To50 toCoupon_GEQ15min  \\\n",
              "11188       gt8                  gt8            less1                 1   \n",
              "5733        1~3                  1~3            less1                 1   \n",
              "6147      less1                  4~8              1~3                 1   \n",
              "11821       4~8                  1~3            less1                 1   \n",
              "11125       4~8                  1~3            less1                 1   \n",
              "\n",
              "      toCoupon_GEQ25min direction_same  Y NaN_count  \n",
              "11188                 1              0  1         0  \n",
              "5733                  0              1  0         0  \n",
              "6147                  0              0  1         0  \n",
              "11821                 1              0  0         0  \n",
              "11125                 0              0  1         0  \n",
              "\n",
              "[5 rows x 25 columns]"
            ]
          },
          "execution_count": 15,
          "metadata": {},
          "output_type": "execute_result"
        }
      ],
      "source": [
        "# Filtering out using coupon columns = Bar\n",
        "bar_coupons = cleaned_data[cleaned_data['coupon'] == 'Bar'].copy()\n",
        "bar_coupons.sample(5)"
      ]
    },
    {
      "cell_type": "markdown",
      "metadata": {
        "id": "8ue6uCqf_qRJ"
      },
      "source": [
        "2. What proportion of bar coupons were accepted?\n"
      ]
    },
    {
      "cell_type": "code",
      "execution_count": 16,
      "metadata": {
        "id": "hSdte8Mi_qRK"
      },
      "outputs": [
        {
          "name": "stdout",
          "output_type": "stream",
          "text": [
            "41.13%\n"
          ]
        }
      ],
      "source": [
        "# Filter out accepted bar coupons using Y column\n",
        "accepted_bar_coupons = bar_coupons[bar_coupons['Y'] == 1]\n",
        "pc_bar_accepted = len(accepted_bar_coupons) / len(bar_coupons)\n",
        "print(f\"{pc_bar_accepted:.2%}\")"
      ]
    },
    {
      "cell_type": "markdown",
      "metadata": {
        "id": "85nA_iEi_qRK"
      },
      "source": [
        "3. Compare the acceptance rate between those who went to a bar 3 or fewer times a month to those who went more.\n"
      ]
    },
    {
      "cell_type": "code",
      "execution_count": 17,
      "metadata": {
        "id": "LBOrN-XM_qRK"
      },
      "outputs": [
        {
          "name": "stdout",
          "output_type": "stream",
          "text": [
            "Bar2\n",
            "<=3    1720\n",
            ">3      191\n",
            "Name: count, dtype: int64\n"
          ]
        }
      ],
      "source": [
        "# running bar_coupons['Bar'].value_counts() tells us that there's 5 categories: 'never', 'less1', '1~3', '4~8', 'gt8'\n",
        "# I will first create new column that tells if went to bar 3 or fewer times, or more\n",
        "\n",
        "# Categories for '3 or fewer'\n",
        "three_or_fewer_cats = ['never', 'less1', '1~3']\n",
        "\n",
        "# Create the 'Bar2' column\n",
        "bar_coupons['Bar2'] = bar_coupons['Bar'].apply(\n",
        "    lambda freq: '<=3' if freq in three_or_fewer_cats else '>3'\n",
        ")\n",
        "\n",
        "print(bar_coupons['Bar2'].value_counts())"
      ]
    },
    {
      "cell_type": "code",
      "execution_count": 18,
      "metadata": {},
      "outputs": [
        {
          "name": "stdout",
          "output_type": "stream",
          "text": [
            "----- Value counts for <= 3 group: -----\n",
            "Y\n",
            "0    1079\n",
            "1     641\n",
            "Name: count, dtype: int64\n",
            "\n",
            "----- Values counts for > 3 group: -----\n",
            "Y\n",
            "1    145\n",
            "0     46\n",
            "Name: count, dtype: int64\n",
            "\n",
            "% Accepted <=3: 37.27%\n",
            "% Accepted >3:  75.92%\n"
          ]
        }
      ],
      "source": [
        "# Now I will calculate the % accepted for both groups. I will print .value_counts just as a way to double check my answer\n",
        "\n",
        "# Separating groups\n",
        "lte3_group = bar_coupons[bar_coupons['Bar2'] == '<=3']\n",
        "gt3_group = bar_coupons[bar_coupons['Bar2'] == '>3']\n",
        "\n",
        "# Print value counts\n",
        "print(\"----- Value counts for <= 3 group: -----\")\n",
        "print(lte3_group['Y'].value_counts())\n",
        "print(\"\\n----- Values counts for > 3 group: -----\")\n",
        "print(gt3_group['Y'].value_counts())\n",
        "\n",
        "# Calculating acceptance rates per group (<=3 vs >3)\n",
        "lte3_group_accepted = lte3_group[lte3_group['Y'] == 1]\n",
        "pc_accepted_bar_lte3 = len(lte3_group_accepted) / len(lte3_group)\n",
        "\n",
        "gt3_group_accepted = gt3_group[gt3_group['Y'] == 1]\n",
        "pc_accepted_bar_gt3 = len(gt3_group_accepted) / len(gt3_group)\n",
        "\n",
        "# Print final result\n",
        "print(f\"\\n% Accepted <=3: {pc_accepted_bar_lte3:.2%}\")\n",
        "print(f\"% Accepted >3:  {pc_accepted_bar_gt3:.2%}\")\n"
      ]
    },
    {
      "cell_type": "markdown",
      "metadata": {},
      "source": [
        "> **Result**: Drivers that go to the bar more than 3 times are 2x more likely to accept a coupon (`75%` vs. `37%`)"
      ]
    },
    {
      "cell_type": "markdown",
      "metadata": {
        "id": "RBgcQwH4_qRK"
      },
      "source": [
        "4. Compare the acceptance rate between drivers who go to a bar more than once a month and are over the age of 25 to the all others.  Is there a difference?\n"
      ]
    },
    {
      "cell_type": "code",
      "execution_count": 19,
      "metadata": {},
      "outputs": [
        {
          "name": "stdout",
          "output_type": "stream",
          "text": [
            "age2\n",
            ">25     1433\n",
            "<=25     478\n",
            "Name: count, dtype: int64\n"
          ]
        }
      ],
      "source": [
        "# I will create a helper column 'age2' that says <=25 or >25 based on the original 'age' column\n",
        "# Running bar_coupons['age'].value_counts() shows that the age groups are: below21 and 21 for the first group, then all the others\n",
        "\n",
        "# Categories for '25 or less'\n",
        "lte25_cats = ['below21', '21']\n",
        "\n",
        "# Create the 'age2' column\n",
        "bar_coupons['age2'] = bar_coupons['age'].apply(\n",
        "    lambda age: '<=25' if age in lte25_cats else '>25'\n",
        ")\n",
        "\n",
        "print(bar_coupons['age2'].value_counts())"
      ]
    },
    {
      "cell_type": "markdown",
      "metadata": {},
      "source": [
        "Regarding the group that go to a bar more than once a month, here's 2 assumptions:\n",
        "1. In problem description at the top of the notebook it was never specified that the frequency of the data was monthly. I will assume that 'Bar' column values (`never`, `less1`, `1~3`, `4~8`, `gt8`) mean 'per-month'\n",
        "2. Given the granularity of the data provided, the best choice to segment drivers that go to the bar more than one a month is to use the `1~3`, `4~8`, `gt8` groups (note that 1 is within `1~3`, so part of this group doesn't comply with this condition). Regardless, I expect the 1~3 group to contain more drivers that do meet the >1 month condition than those who don't "
      ]
    },
    {
      "cell_type": "code",
      "execution_count": 20,
      "metadata": {},
      "outputs": [
        {
          "name": "stdout",
          "output_type": "stream",
          "text": [
            "Bar3\n",
            "<=1_per_month    1720\n",
            ">1_per_month      191\n",
            "Name: count, dtype: int64\n"
          ]
        }
      ],
      "source": [
        "# I will create a helper column 'bar3' that says <=1 or >1 based on the original 'age' column\n",
        "\n",
        "# Categories for '1 or less'\n",
        "lte1_cats = ['never', 'less1', '1~3']\n",
        "\n",
        "# Create the 'bar3' column\n",
        "bar_coupons['Bar3'] = bar_coupons['Bar'].apply(\n",
        "    lambda freq: '<=1_per_month' if freq in lte1_cats else '>1_per_month'\n",
        ")\n",
        "\n",
        "print(bar_coupons['Bar3'].value_counts())"
      ]
    },
    {
      "cell_type": "code",
      "execution_count": 21,
      "metadata": {},
      "outputs": [
        {
          "name": "stdout",
          "output_type": "stream",
          "text": [
            "----- Value counts for test group (>1_per_month and >25): -----\n",
            "Y\n",
            "1    100\n",
            "0     31\n",
            "Name: count, dtype: int64\n",
            "\n",
            "----- Values counts for all others group: -----\n",
            "Y\n",
            "0    1094\n",
            "1     686\n",
            "Name: count, dtype: int64\n",
            "\n",
            "% Accepted Test Group (>1_per_month and >25): 76.34%\n",
            "% Accepted All Others:                        38.54%\n"
          ]
        }
      ],
      "source": [
        "# Separating groups. Desired test group is: Bar3 = '>1_per_month' and age2 = '>25'\n",
        "drinkers_older_25 = bar_coupons[(bar_coupons['age2'] == '>25') & (bar_coupons['Bar3'] == '>1_per_month')]\n",
        "all_others = bar_coupons.drop(drinkers_older_25.index)\n",
        "\n",
        "# Print value counts\n",
        "print(\"----- Value counts for test group (>1_per_month and >25): -----\")\n",
        "print(drinkers_older_25['Y'].value_counts())\n",
        "print(\"\\n----- Values counts for all others group: -----\")\n",
        "print(all_others['Y'].value_counts())\n",
        "\n",
        "# Calculating acceptance rates per group (<=3 vs >3)\n",
        "drinkers_older_25_accepted = drinkers_older_25[drinkers_older_25['Y'] == 1]\n",
        "pc_drinkers_older_25_accepted = len(drinkers_older_25_accepted) / len(drinkers_older_25)\n",
        "\n",
        "all_others_accepted = all_others[all_others['Y'] == 1]\n",
        "pc_all_others_accepted = len(all_others_accepted) / len(all_others)\n",
        "\n",
        "# Print final result\n",
        "print(f\"\\n% Accepted Test Group (>1_per_month and >25): {pc_drinkers_older_25_accepted:.2%}\")\n",
        "print(f\"% Accepted All Others:                        {pc_all_others_accepted:.2%}\")"
      ]
    },
    {
      "cell_type": "markdown",
      "metadata": {},
      "source": [
        "> **Conclusion**: Drivers that go to the bar >1 per month and are >25 years old are 2x more likely to accept a coupon than the rest (`76%` vs `38%` respectively)"
      ]
    },
    {
      "cell_type": "markdown",
      "metadata": {
        "id": "S4RKT4PJ_qRK"
      },
      "source": [
        "5. Use the same process to compare the acceptance rate between drivers who go to bars more than once a month and had passengers that were not a kid and had occupations other than farming, fishing, or forestry.\n"
      ]
    },
    {
      "cell_type": "markdown",
      "metadata": {},
      "source": [
        "In this case I will use more concise approach by creating 3 boolean series that represent the conditions stated, to help filter out the groups:\n",
        "1. passengers_not_kids -> boolean series that is True when `Alone`, `Friend(s)` or `Partner`\n",
        "2. farming_fishing_forestry_ocupations -> boolean series that is True when occupation is `Farming Fishing & Forestry`. I will negate this series\n",
        "3. frequent_drinkers -> boolean series that is True when drivers go to the bar >1 per month (`1~3`, `4~8`,`gt8`)"
      ]
    },
    {
      "cell_type": "code",
      "execution_count": 22,
      "metadata": {
        "id": "sENaI2Tg_qRK"
      },
      "outputs": [
        {
          "name": "stdout",
          "output_type": "stream",
          "text": [
            "----- Value counts for group: (passenger_not_kids and not farming_fishing_forestry_occupation and frequent_drinkers): -----\n",
            "Y\n",
            "1    374\n",
            "0    154\n",
            "Name: count, dtype: int64\n",
            "\n",
            "----- Value counts for Others group: -----\n",
            "Y\n",
            "0    971\n",
            "1    412\n",
            "Name: count, dtype: int64\n",
            "\n",
            "% Accepted Test Group: 70.83%\n",
            "% Accepted All Others: 29.79%\n"
          ]
        }
      ],
      "source": [
        "# Creating the boolean series to filter out each condition\n",
        "passengers_not_kids = bar_coupons['passanger'].isin({'Alone','Friend(s)','Partner'})\n",
        "farming_fishing_forestry_ocupations = bar_coupons['occupation'] == 'Farming Fishing & Forestry'\n",
        "frequent_drinkers = bar_coupons['Bar'].isin({'1~3','4~8','gt8'})\n",
        "\n",
        "# Filtering out using all the conditions\n",
        "q5_group = bar_coupons[passengers_not_kids & ~farming_fishing_forestry_ocupations & frequent_drinkers]\n",
        "q5_not_group = bar_coupons.drop(q5_group.index)\n",
        "\n",
        "# Printing the value counts for Y\n",
        "print(\"----- Value counts for group: (passenger_not_kids and not farming_fishing_forestry_occupation and frequent_drinkers): -----\")\n",
        "print(q5_group['Y'].value_counts())\n",
        "\n",
        "print(\"\\n----- Value counts for Others group: -----\")\n",
        "print(q5_not_group['Y'].value_counts())\n",
        "\n",
        "# Calculating acceptance rates per group\n",
        "q5_group_accepted = q5_group[q5_group['Y'] == 1]\n",
        "pc_q5_group_accepted = len(q5_group_accepted) / len(q5_group)\n",
        "\n",
        "q5_not_group_accepted = q5_not_group[q5_not_group['Y'] == 1]\n",
        "pc_q5_not_group_accepted = len(q5_not_group_accepted) / len(q5_not_group)\n",
        "\n",
        "# Print final result\n",
        "print(f\"\\n% Accepted Test Group: {pc_q5_group_accepted:.2%}\")\n",
        "print(f\"% Accepted All Others: {pc_q5_not_group_accepted:.2%}\")\n",
        "\n",
        "# q5_group[['passanger','occupation','age','coupon']].sample(15)"
      ]
    },
    {
      "cell_type": "markdown",
      "metadata": {},
      "source": [
        "> **Conclusion**: Drivers `without kid passengers` that go to bars more than `once per month` and don't have the `Farming Fishing & Forestry` occupation are `2.3x` more likely to accept the coupons than the rest of the population (~71% vs. ~30%)"
      ]
    },
    {
      "cell_type": "markdown",
      "metadata": {
        "id": "n2LIUTil_qRK"
      },
      "source": [
        "6. Compare the acceptance rates between those drivers who:\n",
        "\n",
        "- go to bars more than once a month, had passengers that were not a kid, and were not widowed *OR*\n",
        "- go to bars more than once a month and are under the age of 30 *OR*\n",
        "- go to cheap restaurants more than 4 times a month and income is less than 50K.\n",
        "\n"
      ]
    },
    {
      "cell_type": "markdown",
      "metadata": {},
      "source": [
        "*Note*: doing my best to solve this ambiguous question. \n",
        "\n",
        "I will assume that you want me to compare a single group consisting of drivers that meet the OR conditions above, vs. the rest of the population. Hopefully this is what you guys meant. Maybe you could have stated more clearly what to compare against because that \"OR\" really throws me off: I'm not sure if you want me to apply an OR operation across all the bullet conditions above, or, compare each bullet against each other. \n",
        "\n",
        "Below you find `solution to intepretation #1 of question 6`: you wanted me to compute a single group that meets the OR conditions above, and compare against the remainder of the population"
      ]
    },
    {
      "cell_type": "code",
      "execution_count": 23,
      "metadata": {
        "id": "aK_wEzx7_qRK"
      },
      "outputs": [
        {
          "name": "stdout",
          "output_type": "stream",
          "text": [
            "----- Bullet 1 OR Bullet 2 OR Bullet 3 value counts: -----\n",
            "Y\n",
            "1    436\n",
            "0    308\n",
            "Name: count, dtype: int64\n",
            "\n",
            "----- Others group value counts: -----\n",
            "Y\n",
            "0    817\n",
            "1    350\n",
            "Name: count, dtype: int64\n",
            "\n",
            "% Accepted Test Group (Bullet 1 OR Bullet 2 OR Bullet 3): 58.60%\n",
            "% Accepted All Others: 29.99%\n"
          ]
        }
      ],
      "source": [
        "# Creating the boolean series to filter out each condition\n",
        "# Creating bullet 1\n",
        "frequent_drinkers = bar_coupons['Bar'].isin({'1~3','4~8','gt8'}) # go to bars >1 per month\n",
        "passengers_not_kids = bar_coupons['passanger'].isin({'Alone','Friend(s)','Partner'}) # no kids\n",
        "not_widowed = bar_coupons['maritalStatus'] != 'Widowed'\n",
        "bullet_1_group_conditions = frequent_drinkers & passengers_not_kids & not_widowed\n",
        "\n",
        "# Creating bullet 2\n",
        "# will resuse frequent_drinkers variable from above\n",
        "age_lt30 = bar_coupons['age'].isin({'below21','21','26'})\n",
        "bullet_2_group_conditions = frequent_drinkers & age_lt30\n",
        "\n",
        "# Creating bullet 3\n",
        "cheap_rests_gt4_per_week = bar_coupons['RestaurantLessThan20'].isin({'4~8', 'gt8'})\n",
        "income_lt_50k = bar_coupons['income'].isin({'Less than $12500','$12500 - $24999','$25000 - $37499','$37500 - $49999'})\n",
        "bullet_3_group_conditions = cheap_rests_gt4_per_week & income_lt_50k\n",
        "\n",
        "# Consolidating all conditions with OR\n",
        "q6_group = bar_coupons[bullet_1_group_conditions | bullet_2_group_conditions | bullet_3_group_conditions]\n",
        "q6_not_group = bar_coupons.drop(q6_group.index)\n",
        "\n",
        "# Printing value counts\n",
        "print(\"----- Bullet 1 OR Bullet 2 OR Bullet 3 value counts: -----\")\n",
        "print(q6_group['Y'].value_counts())\n",
        "print(\"\\n----- Others group value counts: -----\")\n",
        "print(q6_not_group['Y'].value_counts())\n",
        "\n",
        "# Print final result\n",
        "print(f\"\\n% Accepted Test Group (Bullet 1 OR Bullet 2 OR Bullet 3): {436/(436+308):.2%}\")\n",
        "print(f\"% Accepted All Others: {350/(350+817):.2%}\")"
      ]
    },
    {
      "cell_type": "markdown",
      "metadata": {},
      "source": [
        "> **Conclusion**: drivers that meet any of the 3 group conditions mentioned above are more likely to accept a coupon than the rest of the population. In particular, it's interesting to see that drivers NOT in any of the 3 buckets described in the bullets above have low acceptance rates (30%)"
      ]
    },
    {
      "cell_type": "markdown",
      "metadata": {},
      "source": [
        "Below you find `solution to intepretation #2 of question 6`: you wanted me to calculate acceptance rates for each bullet, then compare against each other"
      ]
    },
    {
      "cell_type": "code",
      "execution_count": 24,
      "metadata": {},
      "outputs": [
        {
          "name": "stdout",
          "output_type": "stream",
          "text": [
            "----- Bullet 1 group value counts: -----\n",
            "Y\n",
            "1    374\n",
            "0    154\n",
            "Name: count, dtype: int64\n",
            "% Bullet 1 Accepted: 70.83%\n",
            "\n",
            "----- Bullet 2 group value counts: -----\n",
            "Y\n",
            "1    234\n",
            "0     92\n",
            "Name: count, dtype: int64\n",
            "% Bullet 2 Accepted: 71.78%\n",
            "\n",
            "----- Bullet 3 group value counts: -----\n",
            "Y\n",
            "0    181\n",
            "1    152\n",
            "Name: count, dtype: int64\n",
            "% Bullet 3 Accepted: 45.65%\n"
          ]
        }
      ],
      "source": [
        "print(\"----- Bullet 1 group value counts: -----\")\n",
        "print(bar_coupons[bullet_1_group_conditions]['Y'].value_counts())\n",
        "print(f\"% Bullet 1 Accepted: {374/(374+154):.2%}\")\n",
        "\n",
        "print(\"\\n----- Bullet 2 group value counts: -----\")\n",
        "print(bar_coupons[bullet_2_group_conditions]['Y'].value_counts())\n",
        "print(f\"% Bullet 2 Accepted: {234/(234+92):.2%}\")\n",
        "\n",
        "print(\"\\n----- Bullet 3 group value counts: -----\")\n",
        "print(bar_coupons[bullet_3_group_conditions]['Y'].value_counts())\n",
        "print(f\"% Bullet 3 Accepted: {152/(152+181):.2%}\")"
      ]
    },
    {
      "cell_type": "markdown",
      "metadata": {},
      "source": [
        "> **Conclusion**: Groups for Bullet 1 (go to bars >1 per month, had passengers that were not a kid, and were not widowed) and Bullet 2 (go to bars >1 per month and are under the age of 30) have high acceptance rates (+70%). Instead, Group 3 (go to cheap restaurants more than 4 times a month and income is less than 50K) underperformed with only ~46% acceptance rate"
      ]
    },
    {
      "cell_type": "markdown",
      "metadata": {
        "id": "v3fL3QkO_qRK"
      },
      "source": [
        "7.  Based on these observations, what do you hypothesize about drivers who accepted the bar coupons?"
      ]
    },
    {
      "cell_type": "markdown",
      "metadata": {},
      "source": [
        "First let me consolidate some data points we've gathered from the previous questions.\n",
        "\n",
        "| # | Segment of the Population                                                                              | Acceptance Rate |\n",
        "|---|--------------------------------------------------------------------------------------------------------|-----------------|\n",
        "| 1 | All Population *(baseline)*                                                                            | 56.95%          |\n",
        "| 2 | Bar only *(q2)*                                                                                        | 41.13%          |\n",
        "| 3 | >3 bar visits/month *(q3)*                                                                             | 75.92%          |\n",
        "| 4 | >1 bar visit/month & age > 25y *(q4)*                                                                  | 76.34%          |\n",
        "| 5 | >1 bar visit/month & age < 30y *(q6 bullet 2)*                                                         | 71.78%          |\n",
        "| 6 | >1 bar visit/month & passenger != kids & not in farming/fishing/forestry jobs *(q5)*                   | 70.83%          |\n",
        "| 7 | >1 bar visit/month & passenger != kids & not widowed *(q6 bullet 1)*                                   | 70.83%          |\n",
        "\n",
        "From this table one can conclude the following:\n",
        "1. Bar coupons `underperform` in relation to the other coupons in the dataset (by `~15%`)\n",
        "2. `Bar visits` is a strong signal to bar coupon acceptance. The difference in effectiveness between a >3 visits/month vs. a >1 visits/month is small. Therefore I recommend using `>1 visits/month` as filtering criteria. Using this criteria creates an uplift of `~30%` *(calulation: #4 - #2 = 71%-41%)*\n",
        "3. `Age` seems to have limited effectiveness, as seen when comparing #4 and #5 (which only differ by the age criteria). The difference between `>25y and <30y is only ~5%`. The remaining criteria to decide what a good threshold would be is to consider the % of the population that fits the criteria. Since >25y will cover a bigger age range, I'd recommend using that as threshold instead of <30y. Therefore, use `Age > 25y`\n",
        "4. Regarding the type of `passenger` (kids vs. not kids), it seems the variable unexpectedly has little impact on the decision to accept a coupon (I did check the # of drivers presented with bar coupons that had kids as passengers, at it was tiny: just 42 drivers). I do not recommend using passenger filters in this case\n",
        "5. Regarding the `occupation` and whether the driver is `widowed` or not, those seem to have neglible effects (compare #6 and #7, which only differ in these aspects). I do not recommend using these criteria as targetting strategies either. \n",
        "\n",
        "> **CONCLUSION**: To best target drivers that would accept coupons, I'd use the following criteria: `Bar visits > 1/month` & `Age > 25y`"
      ]
    },
    {
      "cell_type": "markdown",
      "metadata": {
        "id": "r4Hu1zOb_qRL"
      },
      "source": [
        "### Independent Investigation\n",
        "\n",
        "Using the bar coupon example as motivation, you are to explore one of the other coupon groups and try to determine the characteristics of passengers who accept the coupons.  "
      ]
    },
    {
      "cell_type": "markdown",
      "metadata": {},
      "source": [
        "Choosing coffee house"
      ]
    },
    {
      "cell_type": "code",
      "execution_count": 27,
      "metadata": {
        "id": "0c71cQhu_qRL"
      },
      "outputs": [
        {
          "data": {
            "text/html": [
              "<div>\n",
              "<style scoped>\n",
              "    .dataframe tbody tr th:only-of-type {\n",
              "        vertical-align: middle;\n",
              "    }\n",
              "\n",
              "    .dataframe tbody tr th {\n",
              "        vertical-align: top;\n",
              "    }\n",
              "\n",
              "    .dataframe thead th {\n",
              "        text-align: right;\n",
              "    }\n",
              "</style>\n",
              "<table border=\"1\" class=\"dataframe\">\n",
              "  <thead>\n",
              "    <tr style=\"text-align: right;\">\n",
              "      <th></th>\n",
              "      <th>destination</th>\n",
              "      <th>passanger</th>\n",
              "      <th>weather</th>\n",
              "      <th>temperature</th>\n",
              "      <th>time</th>\n",
              "      <th>coupon</th>\n",
              "      <th>expiration</th>\n",
              "      <th>gender</th>\n",
              "      <th>age</th>\n",
              "      <th>maritalStatus</th>\n",
              "      <th>...</th>\n",
              "      <th>Bar</th>\n",
              "      <th>CoffeeHouse</th>\n",
              "      <th>CarryAway</th>\n",
              "      <th>RestaurantLessThan20</th>\n",
              "      <th>Restaurant20To50</th>\n",
              "      <th>toCoupon_GEQ15min</th>\n",
              "      <th>toCoupon_GEQ25min</th>\n",
              "      <th>direction_same</th>\n",
              "      <th>Y</th>\n",
              "      <th>NaN_count</th>\n",
              "    </tr>\n",
              "  </thead>\n",
              "  <tbody>\n",
              "    <tr>\n",
              "      <th>5784</th>\n",
              "      <td>Work</td>\n",
              "      <td>Alone</td>\n",
              "      <td>Sunny</td>\n",
              "      <td>55</td>\n",
              "      <td>7AM</td>\n",
              "      <td>Coffee House</td>\n",
              "      <td>1d</td>\n",
              "      <td>Female</td>\n",
              "      <td>41</td>\n",
              "      <td>Single</td>\n",
              "      <td>...</td>\n",
              "      <td>less1</td>\n",
              "      <td>less1</td>\n",
              "      <td>4~8</td>\n",
              "      <td>4~8</td>\n",
              "      <td>1~3</td>\n",
              "      <td>1</td>\n",
              "      <td>0</td>\n",
              "      <td>0</td>\n",
              "      <td>0</td>\n",
              "      <td>0</td>\n",
              "    </tr>\n",
              "    <tr>\n",
              "      <th>7611</th>\n",
              "      <td>No Urgent Place</td>\n",
              "      <td>Kid(s)</td>\n",
              "      <td>Sunny</td>\n",
              "      <td>55</td>\n",
              "      <td>2PM</td>\n",
              "      <td>Coffee House</td>\n",
              "      <td>1d</td>\n",
              "      <td>Female</td>\n",
              "      <td>36</td>\n",
              "      <td>Unmarried partner</td>\n",
              "      <td>...</td>\n",
              "      <td>never</td>\n",
              "      <td>1~3</td>\n",
              "      <td>less1</td>\n",
              "      <td>1~3</td>\n",
              "      <td>4~8</td>\n",
              "      <td>1</td>\n",
              "      <td>0</td>\n",
              "      <td>0</td>\n",
              "      <td>1</td>\n",
              "      <td>0</td>\n",
              "    </tr>\n",
              "    <tr>\n",
              "      <th>395</th>\n",
              "      <td>No Urgent Place</td>\n",
              "      <td>Friend(s)</td>\n",
              "      <td>Sunny</td>\n",
              "      <td>80</td>\n",
              "      <td>6PM</td>\n",
              "      <td>Coffee House</td>\n",
              "      <td>2h</td>\n",
              "      <td>Female</td>\n",
              "      <td>21</td>\n",
              "      <td>Single</td>\n",
              "      <td>...</td>\n",
              "      <td>1~3</td>\n",
              "      <td>never</td>\n",
              "      <td>1~3</td>\n",
              "      <td>1~3</td>\n",
              "      <td>4~8</td>\n",
              "      <td>0</td>\n",
              "      <td>0</td>\n",
              "      <td>0</td>\n",
              "      <td>0</td>\n",
              "      <td>0</td>\n",
              "    </tr>\n",
              "    <tr>\n",
              "      <th>2910</th>\n",
              "      <td>Work</td>\n",
              "      <td>Alone</td>\n",
              "      <td>Sunny</td>\n",
              "      <td>55</td>\n",
              "      <td>7AM</td>\n",
              "      <td>Coffee House</td>\n",
              "      <td>2h</td>\n",
              "      <td>Male</td>\n",
              "      <td>21</td>\n",
              "      <td>Single</td>\n",
              "      <td>...</td>\n",
              "      <td>less1</td>\n",
              "      <td>1~3</td>\n",
              "      <td>1~3</td>\n",
              "      <td>1~3</td>\n",
              "      <td>less1</td>\n",
              "      <td>1</td>\n",
              "      <td>1</td>\n",
              "      <td>0</td>\n",
              "      <td>1</td>\n",
              "      <td>0</td>\n",
              "    </tr>\n",
              "    <tr>\n",
              "      <th>3195</th>\n",
              "      <td>No Urgent Place</td>\n",
              "      <td>Partner</td>\n",
              "      <td>Sunny</td>\n",
              "      <td>80</td>\n",
              "      <td>10AM</td>\n",
              "      <td>Coffee House</td>\n",
              "      <td>2h</td>\n",
              "      <td>Female</td>\n",
              "      <td>26</td>\n",
              "      <td>Married partner</td>\n",
              "      <td>...</td>\n",
              "      <td>gt8</td>\n",
              "      <td>never</td>\n",
              "      <td>1~3</td>\n",
              "      <td>less1</td>\n",
              "      <td>less1</td>\n",
              "      <td>1</td>\n",
              "      <td>0</td>\n",
              "      <td>0</td>\n",
              "      <td>0</td>\n",
              "      <td>0</td>\n",
              "    </tr>\n",
              "  </tbody>\n",
              "</table>\n",
              "<p>5 rows × 25 columns</p>\n",
              "</div>"
            ],
            "text/plain": [
              "          destination  passanger weather  temperature  time        coupon  \\\n",
              "5784             Work      Alone   Sunny           55   7AM  Coffee House   \n",
              "7611  No Urgent Place     Kid(s)   Sunny           55   2PM  Coffee House   \n",
              "395   No Urgent Place  Friend(s)   Sunny           80   6PM  Coffee House   \n",
              "2910             Work      Alone   Sunny           55   7AM  Coffee House   \n",
              "3195  No Urgent Place    Partner   Sunny           80  10AM  Coffee House   \n",
              "\n",
              "     expiration  gender age      maritalStatus  ...    Bar CoffeeHouse  \\\n",
              "5784         1d  Female  41             Single  ...  less1       less1   \n",
              "7611         1d  Female  36  Unmarried partner  ...  never         1~3   \n",
              "395          2h  Female  21             Single  ...    1~3       never   \n",
              "2910         2h    Male  21             Single  ...  less1         1~3   \n",
              "3195         2h  Female  26    Married partner  ...    gt8       never   \n",
              "\n",
              "     CarryAway RestaurantLessThan20 Restaurant20To50 toCoupon_GEQ15min  \\\n",
              "5784       4~8                  4~8              1~3                 1   \n",
              "7611     less1                  1~3              4~8                 1   \n",
              "395        1~3                  1~3              4~8                 0   \n",
              "2910       1~3                  1~3            less1                 1   \n",
              "3195       1~3                less1            less1                 1   \n",
              "\n",
              "     toCoupon_GEQ25min direction_same  Y NaN_count  \n",
              "5784                 0              0  0         0  \n",
              "7611                 0              0  1         0  \n",
              "395                  0              0  0         0  \n",
              "2910                 1              0  1         0  \n",
              "3195                 0              0  0         0  \n",
              "\n",
              "[5 rows x 25 columns]"
            ]
          },
          "execution_count": 27,
          "metadata": {},
          "output_type": "execute_result"
        }
      ],
      "source": [
        "coffee_coupons = cleaned_data[cleaned_data['coupon'] == 'Coffee House']\n",
        "coffee_coupons.sample(5)"
      ]
    },
    {
      "cell_type": "code",
      "execution_count": 30,
      "metadata": {
        "id": "QEsBkvIN_qRL"
      },
      "outputs": [
        {
          "name": "stdout",
          "output_type": "stream",
          "text": [
            "Time value counts\n",
            "time\n",
            "6PM     1040\n",
            "7AM      875\n",
            "10AM     854\n",
            "2PM      759\n",
            "10PM     281\n",
            "Name: count, dtype: int64\n",
            "\n",
            "Destination value counts\n",
            "destination\n",
            "No Urgent Place    2048\n",
            "Home                886\n",
            "Work                875\n",
            "Name: count, dtype: int64\n"
          ]
        }
      ],
      "source": [
        "# variable suspects: CoffeeHouse, time, temperature, destination, direction_same\n",
        "# Start with time and destination analysis\n",
        "\n",
        "print(\"Time value counts\")\n",
        "print(coffee_coupons['time'].value_counts())\n",
        "\n",
        "print(\"\\nDestination value counts\")\n",
        "print(coffee_coupons['destination'].value_counts())"
      ]
    },
    {
      "cell_type": "code",
      "execution_count": 33,
      "metadata": {},
      "outputs": [
        {
          "data": {
            "image/png": "[encoded data removed]",
            "text/plain": [
              "<Figure size 1000x600 with 2 Axes>"
            ]
          },
          "metadata": {},
          "output_type": "display_data"
        }
      ],
      "source": [
        "# Start with time and destination heatmap, inside each cell is % accepted\n",
        "# Calculate the mean of 'Y' for each combination of 'time' and 'destination'\n",
        "heatmap_data_coffee = coffee_coupons.groupby(['destination', 'time'])['Y'].mean().unstack()\n",
        "\n",
        "# Define the desired order for axes\n",
        "destination_order = ['No Urgent Place', 'Home', 'Work']\n",
        "time_order = ['7AM', '10AM', '2PM', '6PM', '10PM']\n",
        "\n",
        "# Reindex the DataFrame to ensure correct order\n",
        "heatmap_data_coffee = heatmap_data_coffee.reindex(index=destination_order, columns=time_order)\n",
        "\n",
        "# Create the heatmap\n",
        "plt.figure(figsize=(10, 6))\n",
        "sns.heatmap(heatmap_data_coffee, annot=True, fmt=\".1%\", cmap=\"YlGnBu\", linewidths=.5)\n",
        "\n",
        "# Add titles and labels\n",
        "plt.title('Coffee Coupon Acceptance Rate by Time and Destination')\n",
        "plt.xlabel('Time of Day')\n",
        "plt.ylabel('Destination')\n",
        "plt.tight_layout() # Adjust layout to prevent labels from overlapping\n",
        "plt.show()"
      ]
    },
    {
      "cell_type": "code",
      "execution_count": null,
      "metadata": {
        "id": "fTC2WGE3_qRL"
      },
      "outputs": [],
      "source": [
        "# second tier: occupation, education. for these do bar charts where "
      ]
    },
    {
      "cell_type": "code",
      "execution_count": null,
      "metadata": {
        "id": "RrqUWn7d_qRL"
      },
      "outputs": [],
      "source": []
    },
    {
      "cell_type": "code",
      "execution_count": null,
      "metadata": {
        "id": "_oykf8YP_qRL"
      },
      "outputs": [],
      "source": []
    }
  ],
  "metadata": {
    "colab": {
      "provenance": []
    },
    "kernelspec": {
      "display_name": ".venv",
      "language": "python",
      "name": "python3"
    },
    "language_info": {
      "codemirror_mode": {
        "name": "ipython",
        "version": 3
      },
      "file_extension": ".py",
      "mimetype": "text/x-python",
      "name": "python",
      "nbconvert_exporter": "python",
      "pygments_lexer": "ipython3",
      "version": "3.13.2"
    }
  },
  "nbformat": 4,
  "nbformat_minor": 0
}
